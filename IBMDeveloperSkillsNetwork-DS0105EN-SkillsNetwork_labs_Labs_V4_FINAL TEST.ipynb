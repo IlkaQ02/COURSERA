{
  "metadata": {
    "language_info": {
      "codemirror_mode": {
        "name": "python",
        "version": 3
      },
      "file_extension": ".py",
      "mimetype": "text/x-python",
      "name": "python",
      "nbconvert_exporter": "python",
      "pygments_lexer": "ipython3",
      "version": "3.8"
    },
    "kernelspec": {
      "name": "python",
      "display_name": "Python (Pyodide)",
      "language": "python"
    }
  },
  "nbformat_minor": 4,
  "nbformat": 4,
  "cells": [
    {
      "cell_type": "markdown",
      "source": "TITLE OF THE NOTEBOOK: NOTEBOOK",
      "metadata": {}
    },
    {
      "cell_type": "markdown",
      "source": "INTRODUCTION: THIS IS THE INTRODUCTION OF MY TEST",
      "metadata": {}
    },
    {
      "cell_type": "markdown",
      "source": "DATA SCIENCE LANGUAGES:\n\n*Python\n*R\n*SQL\n*Scada\n*Java\n*C++\n*Julia\n*JavaScript\n*PHP\n*GO\n*Ruby\n*Visual Basic",
      "metadata": {}
    },
    {
      "cell_type": "markdown",
      "source": "DATA SCIENCE LIBRARIES:\n\n\nIn Python: Pandas, NumPy, Seaborn, Matplotlib, Scipy, Keras, TensorFlow, Scikit,Pytorch, Apache Spark (can be in R, Scala and SQL also)\n\nScala: Vegas\n\nR: ggplot2, Keras and TensorFlow.\n",
      "metadata": {}
    },
    {
      "cell_type": "markdown",
      "source": "Excersise 7: Introduction to aritmetic expressions",
      "metadata": {}
    },
    {
      "cell_type": "code",
      "source": "#Exercise 8 - Create a code cell to multiply and add numbers. (2 pts)\n\nb = 5\na = 5*5+b\n\nprint(a)\n",
      "metadata": {
        "trusted": true
      },
      "execution_count": 5,
      "outputs": [
        {
          "name": "stdout",
          "text": "30\n",
          "output_type": "stream"
        }
      ]
    },
    {
      "cell_type": "code",
      "source": "#Exercise 9 - Create a code cell to convert minutes to hours. (2 pts)\n\nmin = 700\nhour = min//60\nx = min % 60\n\nprint(f'{hour} hours {x}min')",
      "metadata": {
        "trusted": true
      },
      "execution_count": 9,
      "outputs": [
        {
          "name": "stdout",
          "text": "11 hours 40min\n",
          "output_type": "stream"
        }
      ]
    },
    {
      "cell_type": "markdown",
      "source": "Exercise 10 -Insert a markdown cell to list Objectives. (3 pts)\n\n*Demonstrate my proficiency in using Markdown in Jupyter notebook\n*Learn more about Data science\n*Look for better jobs",
      "metadata": {}
    },
    {
      "cell_type": "code",
      "source": "Exercise 11 - Create a markdown cell to indicate the Author’s name. (2 pts)\n\nIlka Quintero",
      "metadata": {},
      "execution_count": null,
      "outputs": []
    },
    {
      "cell_type": "markdown",
      "source": "",
      "metadata": {}
    }
  ]
}